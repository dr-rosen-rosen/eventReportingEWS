{
 "cells": [
  {
   "cell_type": "code",
   "execution_count": 3,
   "metadata": {},
   "outputs": [],
   "source": [
    "from urllib.request import urlopen, Request\n",
    "from urllib.parse import urlencode\n",
    "from bs4 import BeautifulSoup\n",
    "import numpy as np\n",
    "import pandas as pd\n",
    "from selenium import webdriver"
   ]
  },
  {
   "cell_type": "code",
   "execution_count": 25,
   "metadata": {},
   "outputs": [],
   "source": [
    "events = []\n",
    "event_nums = [36580,45147,2]\n",
    "bad_event_nums = []\n",
    "for event_num in event_nums:\n",
    "    try:   \n",
    "        options = webdriver.FirefoxOptions()\n",
    "        browser = webdriver.Firefox(options=options)\n",
    "        browser.get(\"https://lersearch.inl.gov/ENView.aspx?DOC::\"+str(event_num))\n",
    "        html = browser.page_source\n",
    "        soup = BeautifulSoup(html, features=\"html.parser\")\n",
    "        events.append({\n",
    "            'event_num' : soup.find(id=\"ContentPlaceHolderMainPageContent_Label1EventNumber\").text.strip(),\n",
    "            'facility' : soup.find(id=\"ContentPlaceHolderMainPageContent_Label1Facility\").text.strip(),\n",
    "            'emerg_class' : soup.find(id=\"ContentPlaceHolderMainPageContent_Label1EmergencyClass\").text.strip(),\n",
    "            '10_cfr_sec' : soup.find(id=\"ContentPlaceHolderMainPageContent_Label110CFRSection\").text.strip(),\n",
    "            'last_update_date' : soup.find(id=\"ContentPlaceHolderMainPageContent_Label1LastUpdateDate\").text.strip(),\n",
    "            'event_date' : soup.find(id=\"ContentPlaceHolderMainPageContent_Label1EventDate\").text.strip(),\n",
    "            'event_time' : soup.find(id=\"ContentPlaceHolderMainPageContent_Label1EventTime\").text.strip(),\n",
    "            'notification_date' : soup.find(id=\"ContentPlaceHolderMainPageContent_Label1NotificationDate\").text.strip(),\n",
    "            'notification_time' : soup.find(id=\"ContentPlaceHolderMainPageContent_Label1NotificationTime\").text.strip(),\n",
    "            'region' : soup.find(id=\"ContentPlaceHolderMainPageContent_Label1Region\").text.strip(),\n",
    "            'state' : soup.find(id=\"ContentPlaceHolderMainPageContent_Label1State\").text.strip(),\n",
    "            'rx_type' : soup.find(id=\"ContentPlaceHolderMainPageContent_Label1RXType\").text.strip(),\n",
    "            'unit' : soup.find(id=\"ContentPlaceHolderMainPageContent_LabelUnit1\").text.strip(),\n",
    "            'scram_code' : soup.find(id=\"ContentPlaceHolderMainPageContent_LabelSCRAMCode1\").text.strip(),\n",
    "            'rx_crit' : soup.find(id=\"ContentPlaceHolderMainPageContent_LabelRXCrit1\").text.strip(),\n",
    "            'initial_pwr' : soup.find(id=\"ContentPlaceHolderMainPageContent_LabelInitialPower1\").text.strip(),\n",
    "            'initial_rx_mode' : soup.find(id=\"ContentPlaceHolderMainPageContent_LabelInitialRXMode1\").text.strip(),\n",
    "            'current_pwr' : soup.find(id=\"ContentPlaceHolderMainPageContent_LabelCurrentPower1\").text.strip(),\n",
    "            'currenct_rx_mode' : soup.find(id=\"ContentPlaceHolderMainPageContent_LabelCurrentRXMode1\").text.strip(),\n",
    "            'event_text' : soup.find(id=\"ContentPlaceHolderMainPageContent_LabelEventText\").text.strip()\n",
    "            \n",
    "        })\n",
    "        browser.close()\n",
    "    except:\n",
    "        bad_event_nums.append(event_num)\n",
    "        browser.close()\n",
    "pd.DataFrame.from_dict(events, orient='columns').to_csv('event_reports_nrc.csv')\n",
    "pd.DataFrame.from_dict({'bad_event_nums': bad_event_nums}).to_csv('bad_event_nums.csv')"
   ]
  }
 ],
 "metadata": {
  "kernelspec": {
   "display_name": "Python 3",
   "language": "python",
   "name": "python3"
  },
  "language_info": {
   "codemirror_mode": {
    "name": "ipython",
    "version": 3
   },
   "file_extension": ".py",
   "mimetype": "text/x-python",
   "name": "python",
   "nbconvert_exporter": "python",
   "pygments_lexer": "ipython3",
   "version": "3.11.3"
  }
 },
 "nbformat": 4,
 "nbformat_minor": 2
}
