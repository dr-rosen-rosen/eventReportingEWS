{
 "cells": [
  {
   "cell_type": "code",
   "execution_count": 1,
   "metadata": {},
   "outputs": [],
   "source": [
    "from pdfminer.high_level import extract_text\n",
    "import re\n",
    "import os\n",
    "import requests\n",
    "import pandas as pd"
   ]
  },
  {
   "cell_type": "code",
   "execution_count": 30,
   "metadata": {},
   "outputs": [],
   "source": [
    "# Download PDFS for all links in file\n",
    "links = pd.read_csv('phmsa_links.csv')\n",
    "for index, row in links.iterrows():\n",
    "    response = requests.get(row.doc_link)\n",
    "    with open('/Volumes/calculon/event_reporting/phmsa/reports/'+str(row.report_no)+'.pdf','wb') as pdf:\n",
    "        pdf.write(response.content)"
   ]
  },
  {
   "cell_type": "code",
   "execution_count": 2,
   "metadata": {},
   "outputs": [],
   "source": [
    "# extract needed text from each pdf report\n",
    "for index, row in pd.read_csv('file_list.csv').iterrows():\n",
    "    #text = extract_text(\"/Volumes/calculon/event_reporting/phmsa/OHMIR_5800-1 (2).pdf\")\n",
    "    text = extract_text(row.pdf_link)\n",
    "    myRegex=re.compile(\"Describe:.*?PART VII - RECOMMENDATIONS/ACTIONS TAKEN TO PREVENT RECURRENCE\",re.DOTALL)\n",
    "    for subText in myRegex.findall(text):\n",
    "        narrative1 = subText.removeprefix('Describe:').removesuffix('PART VII - RECOMMENDATIONS/ACTIONS TAKEN TO PREVENT RECURRENCE').strip()\n",
    "    myRegex=re.compile(\"individual company. Continue on additional sheets if necessary.*?PART VIII – CONTACT INFORMATION\",re.DOTALL)\n",
    "    for subText in myRegex.findall(text):\n",
    "        narrative2 = subText.removeprefix('individual company. Continue on additional sheets if necessary.').removesuffix('PART VIII – CONTACT INFORMATION').strip().removeprefix('Describe:').strip()"
   ]
  }
 ],
 "metadata": {
  "kernelspec": {
   "display_name": "Python 3",
   "language": "python",
   "name": "python3"
  },
  "language_info": {
   "codemirror_mode": {
    "name": "ipython",
    "version": 3
   },
   "file_extension": ".py",
   "mimetype": "text/x-python",
   "name": "python",
   "nbconvert_exporter": "python",
   "pygments_lexer": "ipython3",
   "version": "3.11.3"
  }
 },
 "nbformat": 4,
 "nbformat_minor": 2
}
