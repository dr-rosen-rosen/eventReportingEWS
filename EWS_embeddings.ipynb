{
 "cells": [
  {
   "cell_type": "code",
   "execution_count": 1,
   "metadata": {},
   "outputs": [
    {
     "name": "stderr",
     "output_type": "stream",
     "text": [
      "/var/folders/1j/mpxdgh255lj4_vy0kyxxrx200000gn/T/ipykernel_10597/31679372.py:1: DeprecationWarning: \n",
      "Pyarrow will become a required dependency of pandas in the next major release of pandas (pandas 3.0),\n",
      "(to allow more performant data types, such as the Arrow string type, and better interoperability with other libraries)\n",
      "but was not found to be installed on your system.\n",
      "If this would cause problems for you,\n",
      "please provide us feedback at https://github.com/pandas-dev/pandas/issues/54466\n",
      "        \n",
      "  import pandas as pd\n"
     ]
    },
    {
     "ename": "ModuleNotFoundError",
     "evalue": "No module named 'sentence_transformers'",
     "output_type": "error",
     "traceback": [
      "\u001b[0;31m---------------------------------------------------------------------------\u001b[0m",
      "\u001b[0;31mModuleNotFoundError\u001b[0m                       Traceback (most recent call last)",
      "Cell \u001b[0;32mIn[1], line 3\u001b[0m\n\u001b[1;32m      1\u001b[0m \u001b[38;5;28;01mimport\u001b[39;00m \u001b[38;5;21;01mpandas\u001b[39;00m \u001b[38;5;28;01mas\u001b[39;00m \u001b[38;5;21;01mpd\u001b[39;00m\n\u001b[1;32m      2\u001b[0m \u001b[38;5;28;01mimport\u001b[39;00m \u001b[38;5;21;01mos\u001b[39;00m\n\u001b[0;32m----> 3\u001b[0m \u001b[38;5;28;01mfrom\u001b[39;00m \u001b[38;5;21;01msentence_transformers\u001b[39;00m \u001b[38;5;28;01mimport\u001b[39;00m SentenceTransformer, util\n\u001b[1;32m      4\u001b[0m \u001b[38;5;28;01mfrom\u001b[39;00m \u001b[38;5;21;01msklearn\u001b[39;00m\u001b[38;5;21;01m.\u001b[39;00m\u001b[38;5;21;01mmetrics\u001b[39;00m\u001b[38;5;21;01m.\u001b[39;00m\u001b[38;5;21;01mpairwise\u001b[39;00m \u001b[38;5;28;01mimport\u001b[39;00m cosine_similarity\n\u001b[1;32m      5\u001b[0m \u001b[38;5;28;01mimport\u001b[39;00m \u001b[38;5;21;01mnumpy\u001b[39;00m \u001b[38;5;28;01mas\u001b[39;00m \u001b[38;5;21;01mnp\u001b[39;00m\n",
      "\u001b[0;31mModuleNotFoundError\u001b[0m: No module named 'sentence_transformers'"
     ]
    }
   ],
   "source": [
    "import pandas as pd\n",
    "import os\n",
    "from sentence_transformers import SentenceTransformer, util\n",
    "from sklearn.metrics.pairwise import cosine_similarity\n",
    "import numpy as np"
   ]
  },
  {
   "cell_type": "code",
   "execution_count": 2,
   "metadata": {},
   "outputs": [],
   "source": [
    "model = SentenceTransformer('sentence-transformers/all-MiniLM-L6-v2')"
   ]
  },
  {
   "cell_type": "code",
   "execution_count": 131,
   "metadata": {},
   "outputs": [],
   "source": [
    "psn_df = pd.read_excel('/Volumes/LaCie/event_ews/old_psn.xlsx')\n",
    "#asrs_df = pd.read_csv('/Volumes/LaCie/event_ews/cmb_asrs.csv')"
   ]
  },
  {
   "cell_type": "code",
   "execution_count": 132,
   "metadata": {},
   "outputs": [],
   "source": [
    "from nltk.sentiment.vader import SentimentIntensityAnalyzer\n",
    "analyzer = SentimentIntensityAnalyzer()\n",
    "psn_df['compound'] = [analyzer.polarity_scores(x)['compound'] for x in psn_df['Narrative_merged']]\n",
    "\n",
    "#asrs_df['compound'] = [analyzer.polarity_scores(x)['compound'] for x in asrs_df['report_1narrative']]"
   ]
  },
  {
   "cell_type": "code",
   "execution_count": 133,
   "metadata": {},
   "outputs": [],
   "source": [
    "psn_df['embeddings'] = psn_df['Narrative_merged'].map(lambda x: model.encode(x, convert_to_tensor=False))\n",
    "#asrs_df['embeddings'] = asrs_df['report_1narrative'].map(lambda x: model.encode(x,convert_to_tensor=False))"
   ]
  },
  {
   "cell_type": "code",
   "execution_count": 143,
   "metadata": {},
   "outputs": [],
   "source": [
    "psn_df.rename(columns={'FLR_SUBMIT_DATE':'date'},inplace=True)"
   ]
  },
  {
   "cell_type": "code",
   "execution_count": 113,
   "metadata": {},
   "outputs": [],
   "source": [
    "def group_sim_mean(x):\n",
    "    sim = cosine_similarity(list(x))\n",
    "    np.fill_diagonal(sim,np.nan)\n",
    "    return sim[~np.isnan(sim)].mean()\n",
    "\n",
    "def group_sim_std(x):\n",
    "    sim = cosine_similarity(list(x))\n",
    "    np.fill_diagonal(sim,np.nan)\n",
    "    return sim[~np.isnan(sim)].std()"
   ]
  },
  {
   "cell_type": "code",
   "execution_count": 174,
   "metadata": {},
   "outputs": [
    {
     "data": {
      "text/html": [
       "<div>\n",
       "<style scoped>\n",
       "    .dataframe tbody tr th:only-of-type {\n",
       "        vertical-align: middle;\n",
       "    }\n",
       "\n",
       "    .dataframe tbody tr th {\n",
       "        vertical-align: top;\n",
       "    }\n",
       "\n",
       "    .dataframe thead th {\n",
       "        text-align: right;\n",
       "    }\n",
       "</style>\n",
       "<table border=\"1\" class=\"dataframe\">\n",
       "  <thead>\n",
       "    <tr style=\"text-align: right;\">\n",
       "      <th></th>\n",
       "      <th>PRIMARY_LOC_NAME</th>\n",
       "      <th>date</th>\n",
       "      <th>compound_mean</th>\n",
       "      <th>compound_std</th>\n",
       "    </tr>\n",
       "  </thead>\n",
       "  <tbody>\n",
       "    <tr>\n",
       "      <th>0</th>\n",
       "      <td>1-Not Applicable</td>\n",
       "      <td>2013-07-08</td>\n",
       "      <td>0.888500</td>\n",
       "      <td>NaN</td>\n",
       "    </tr>\n",
       "    <tr>\n",
       "      <th>1</th>\n",
       "      <td>1-Not Applicable</td>\n",
       "      <td>2013-07-15</td>\n",
       "      <td>-0.246133</td>\n",
       "      <td>0.954765</td>\n",
       "    </tr>\n",
       "    <tr>\n",
       "      <th>2</th>\n",
       "      <td>1-Not Applicable</td>\n",
       "      <td>2013-07-16</td>\n",
       "      <td>0.540200</td>\n",
       "      <td>NaN</td>\n",
       "    </tr>\n",
       "    <tr>\n",
       "      <th>3</th>\n",
       "      <td>1-Not Applicable</td>\n",
       "      <td>2013-07-24</td>\n",
       "      <td>0.822500</td>\n",
       "      <td>NaN</td>\n",
       "    </tr>\n",
       "    <tr>\n",
       "      <th>4</th>\n",
       "      <td>1-Not Applicable</td>\n",
       "      <td>2013-08-05</td>\n",
       "      <td>-0.431000</td>\n",
       "      <td>NaN</td>\n",
       "    </tr>\n",
       "  </tbody>\n",
       "</table>\n",
       "</div>"
      ],
      "text/plain": [
       "   PRIMARY_LOC_NAME       date  compound_mean  compound_std\n",
       "0  1-Not Applicable 2013-07-08       0.888500           NaN\n",
       "1  1-Not Applicable 2013-07-15      -0.246133      0.954765\n",
       "2  1-Not Applicable 2013-07-16       0.540200           NaN\n",
       "3  1-Not Applicable 2013-07-24       0.822500           NaN\n",
       "4  1-Not Applicable 2013-08-05      -0.431000           NaN"
      ]
     },
     "execution_count": 174,
     "metadata": {},
     "output_type": "execute_result"
    }
   ],
   "source": [
    "psn_vader_metrics = psn_df[['PRIMARY_LOC_NAME','date','compound']]\n",
    "psn_vader_metrics = psn_vader_metrics.groupby(['PRIMARY_LOC_NAME',pd.Grouper(key='date', freq='D')]).agg(['mean','std']).reset_index()\n",
    "#psn_vader_metrics.columns = ['date','vader_comp_mean','vader_comp_std']\n",
    "psn_vader_metrics.columns = psn_vader_metrics.columns.map('_'.join).str.strip('_')\n",
    "psn_vader_metrics.head()"
   ]
  },
  {
   "cell_type": "code",
   "execution_count": 185,
   "metadata": {},
   "outputs": [
    {
     "data": {
      "text/html": [
       "<div>\n",
       "<style scoped>\n",
       "    .dataframe tbody tr th:only-of-type {\n",
       "        vertical-align: middle;\n",
       "    }\n",
       "\n",
       "    .dataframe tbody tr th {\n",
       "        vertical-align: top;\n",
       "    }\n",
       "\n",
       "    .dataframe thead th {\n",
       "        text-align: right;\n",
       "    }\n",
       "</style>\n",
       "<table border=\"1\" class=\"dataframe\">\n",
       "  <thead>\n",
       "    <tr style=\"text-align: right;\">\n",
       "      <th></th>\n",
       "      <th>PRIMARY_LOC_NAME</th>\n",
       "      <th>date</th>\n",
       "      <th>mean_embedding</th>\n",
       "      <th>mean_embedding_shift</th>\n",
       "      <th>lag_sim</th>\n",
       "    </tr>\n",
       "  </thead>\n",
       "  <tbody>\n",
       "    <tr>\n",
       "      <th>1</th>\n",
       "      <td>1-Not Applicable</td>\n",
       "      <td>2013-07-15</td>\n",
       "      <td>[-0.028988875, 0.025440848, 0.0107028065, 0.03...</td>\n",
       "      <td>[-0.057235606, 0.10142736, 0.014249456, 0.0303...</td>\n",
       "      <td>0.543528</td>\n",
       "    </tr>\n",
       "    <tr>\n",
       "      <th>2</th>\n",
       "      <td>1-Not Applicable</td>\n",
       "      <td>2013-07-16</td>\n",
       "      <td>[-0.083788216, 0.020813072, 0.10173995, -0.006...</td>\n",
       "      <td>[-0.028988875, 0.025440848, 0.0107028065, 0.03...</td>\n",
       "      <td>0.350543</td>\n",
       "    </tr>\n",
       "    <tr>\n",
       "      <th>3</th>\n",
       "      <td>1-Not Applicable</td>\n",
       "      <td>2013-07-24</td>\n",
       "      <td>[-0.013506578, -0.04957799, 0.02950874, -0.028...</td>\n",
       "      <td>[-0.083788216, 0.020813072, 0.10173995, -0.006...</td>\n",
       "      <td>0.142326</td>\n",
       "    </tr>\n",
       "    <tr>\n",
       "      <th>4</th>\n",
       "      <td>1-Not Applicable</td>\n",
       "      <td>2013-08-05</td>\n",
       "      <td>[0.07154466, 0.049656373, 0.011825556, 0.08592...</td>\n",
       "      <td>[-0.013506578, -0.04957799, 0.02950874, -0.028...</td>\n",
       "      <td>0.317988</td>\n",
       "    </tr>\n",
       "    <tr>\n",
       "      <th>5</th>\n",
       "      <td>1-Not Applicable</td>\n",
       "      <td>2013-08-06</td>\n",
       "      <td>[-0.066216335, -0.0047464226, -0.008616552, 0....</td>\n",
       "      <td>[0.07154466, 0.049656373, 0.011825556, 0.08592...</td>\n",
       "      <td>0.305237</td>\n",
       "    </tr>\n",
       "  </tbody>\n",
       "</table>\n",
       "</div>"
      ],
      "text/plain": [
       "   PRIMARY_LOC_NAME       date  \\\n",
       "1  1-Not Applicable 2013-07-15   \n",
       "2  1-Not Applicable 2013-07-16   \n",
       "3  1-Not Applicable 2013-07-24   \n",
       "4  1-Not Applicable 2013-08-05   \n",
       "5  1-Not Applicable 2013-08-06   \n",
       "\n",
       "                                      mean_embedding  \\\n",
       "1  [-0.028988875, 0.025440848, 0.0107028065, 0.03...   \n",
       "2  [-0.083788216, 0.020813072, 0.10173995, -0.006...   \n",
       "3  [-0.013506578, -0.04957799, 0.02950874, -0.028...   \n",
       "4  [0.07154466, 0.049656373, 0.011825556, 0.08592...   \n",
       "5  [-0.066216335, -0.0047464226, -0.008616552, 0....   \n",
       "\n",
       "                                mean_embedding_shift   lag_sim  \n",
       "1  [-0.057235606, 0.10142736, 0.014249456, 0.0303...  0.543528  \n",
       "2  [-0.028988875, 0.025440848, 0.0107028065, 0.03...  0.350543  \n",
       "3  [-0.083788216, 0.020813072, 0.10173995, -0.006...  0.142326  \n",
       "4  [-0.013506578, -0.04957799, 0.02950874, -0.028...  0.317988  \n",
       "5  [0.07154466, 0.049656373, 0.011825556, 0.08592...  0.305237  "
      ]
     },
     "execution_count": 185,
     "metadata": {},
     "output_type": "execute_result"
    }
   ],
   "source": [
    "#psn_sim_metrics = psn_df[['date','embeddings']]\n",
    "psn_sim_metrics = psn_df[['PRIMARY_LOC_NAME','date','embeddings']]\n",
    "#psn_sim_metrics['date']\n",
    "#psn_sim_metrics = psn_sim_metrics.groupby(pd.Grouper(key='date', freq='D')).apply(np.mean).reset_index(name='mean_embedding')\n",
    "psn_sim_metrics = psn_sim_metrics.groupby(['PRIMARY_LOC_NAME',pd.Grouper(key='date', freq='D')]).apply(np.mean).reset_index(name='mean_embedding')\n",
    "#psn_sim_metrics['mean_embedding_shift'] = psn_sim_metrics['mean_embedding'].shift(periods=1)\n",
    "psn_sim_metrics['mean_embedding_shift'] = psn_sim_metrics.groupby('PRIMARY_LOC_NAME')['mean_embedding'].shift(periods=1)\n",
    "psn_sim_metrics.dropna(axis = 0,inplace=True)\n",
    "#psn_sim_metrics['lag_sim'] = psn_sim_metrics.apply(lambda x: cosine_similarity([x.mean_embedding,x.mean_embedding_shift])[0,1], axis=1)\n",
    "psn_sim_metrics['lag_sim'] = psn_sim_metrics.apply(lambda x: cosine_similarity([x.mean_embedding,x.mean_embedding_shift])[0,1], axis = 1)\n",
    "psn_sim_metrics.head()"
   ]
  },
  {
   "cell_type": "code",
   "execution_count": 214,
   "metadata": {},
   "outputs": [
    {
     "ename": "DataError",
     "evalue": "No numeric types to aggregate",
     "output_type": "error",
     "traceback": [
      "\u001b[0;31m---------------------------------------------------------------------------\u001b[0m",
      "\u001b[0;31mTypeError\u001b[0m                                 Traceback (most recent call last)",
      "\u001b[0;31mTypeError\u001b[0m: only size-1 arrays can be converted to Python scalars",
      "\nThe above exception was the direct cause of the following exception:\n",
      "\u001b[0;31mValueError\u001b[0m                                Traceback (most recent call last)",
      "File \u001b[0;32m/Library/Frameworks/Python.framework/Versions/3.11/lib/python3.11/site-packages/pandas/core/window/rolling.py:370\u001b[0m, in \u001b[0;36mBaseWindow._prep_values\u001b[0;34m(self, values)\u001b[0m\n\u001b[1;32m    369\u001b[0m     \u001b[39melse\u001b[39;00m:\n\u001b[0;32m--> 370\u001b[0m         values \u001b[39m=\u001b[39m ensure_float64(values)\n\u001b[1;32m    371\u001b[0m \u001b[39mexcept\u001b[39;00m (\u001b[39mValueError\u001b[39;00m, \u001b[39mTypeError\u001b[39;00m) \u001b[39mas\u001b[39;00m err:\n",
      "File \u001b[0;32mpandas/_libs/algos_common_helper.pxi:42\u001b[0m, in \u001b[0;36mpandas._libs.algos.ensure_float64\u001b[0;34m()\u001b[0m\n",
      "\u001b[0;31mValueError\u001b[0m: setting an array element with a sequence.",
      "\nThe above exception was the direct cause of the following exception:\n",
      "\u001b[0;31mTypeError\u001b[0m                                 Traceback (most recent call last)",
      "File \u001b[0;32m/Library/Frameworks/Python.framework/Versions/3.11/lib/python3.11/site-packages/pandas/core/window/rolling.py:450\u001b[0m, in \u001b[0;36mBaseWindow._apply_series\u001b[0;34m(self, homogeneous_func, name)\u001b[0m\n\u001b[1;32m    449\u001b[0m \u001b[39mtry\u001b[39;00m:\n\u001b[0;32m--> 450\u001b[0m     values \u001b[39m=\u001b[39m \u001b[39mself\u001b[39;49m\u001b[39m.\u001b[39;49m_prep_values(obj\u001b[39m.\u001b[39;49m_values)\n\u001b[1;32m    451\u001b[0m \u001b[39mexcept\u001b[39;00m (\u001b[39mTypeError\u001b[39;00m, \u001b[39mNotImplementedError\u001b[39;00m) \u001b[39mas\u001b[39;00m err:\n",
      "File \u001b[0;32m/Library/Frameworks/Python.framework/Versions/3.11/lib/python3.11/site-packages/pandas/core/window/rolling.py:372\u001b[0m, in \u001b[0;36mBaseWindow._prep_values\u001b[0;34m(self, values)\u001b[0m\n\u001b[1;32m    371\u001b[0m \u001b[39mexcept\u001b[39;00m (\u001b[39mValueError\u001b[39;00m, \u001b[39mTypeError\u001b[39;00m) \u001b[39mas\u001b[39;00m err:\n\u001b[0;32m--> 372\u001b[0m     \u001b[39mraise\u001b[39;00m \u001b[39mTypeError\u001b[39;00m(\u001b[39mf\u001b[39m\u001b[39m\"\u001b[39m\u001b[39mcannot handle this type -> \u001b[39m\u001b[39m{\u001b[39;00mvalues\u001b[39m.\u001b[39mdtype\u001b[39m}\u001b[39;00m\u001b[39m\"\u001b[39m) \u001b[39mfrom\u001b[39;00m \u001b[39merr\u001b[39;00m\n\u001b[1;32m    374\u001b[0m \u001b[39m# Convert inf to nan for C funcs\u001b[39;00m\n",
      "\u001b[0;31mTypeError\u001b[0m: cannot handle this type -> object",
      "\nThe above exception was the direct cause of the following exception:\n",
      "\u001b[0;31mDataError\u001b[0m                                 Traceback (most recent call last)",
      "\u001b[1;32m/Users/mrosen44/Documents/Data_Analysis_Local/eventReportingEWS/EWS_embeddings.ipynb Cell 10\u001b[0m line \u001b[0;36m7\n\u001b[1;32m      <a href='vscode-notebook-cell:/Users/mrosen44/Documents/Data_Analysis_Local/eventReportingEWS/EWS_embeddings.ipynb#X44sZmlsZQ%3D%3D?line=4'>5</a>\u001b[0m psn_sim_metrics2\u001b[39m.\u001b[39mhead()\n\u001b[1;32m      <a href='vscode-notebook-cell:/Users/mrosen44/Documents/Data_Analysis_Local/eventReportingEWS/EWS_embeddings.ipynb#X44sZmlsZQ%3D%3D?line=5'>6</a>\u001b[0m \u001b[39m#psn_sim_metrics2['rolling_sim'] = psn_sim_metrics2.groupby('PRIMARY_LOC_NAME')['mean_embedding'].apply(lambda g: g.rolling(5,min_periods=1,center=False).apply(group_sim_mean))\u001b[39;00m\n\u001b[0;32m----> <a href='vscode-notebook-cell:/Users/mrosen44/Documents/Data_Analysis_Local/eventReportingEWS/EWS_embeddings.ipynb#X44sZmlsZQ%3D%3D?line=6'>7</a>\u001b[0m psn_sim_metrics2[\u001b[39m'\u001b[39m\u001b[39mrolling_sim\u001b[39m\u001b[39m'\u001b[39m] \u001b[39m=\u001b[39m psn_sim_metrics2\u001b[39m.\u001b[39;49mrolling(\u001b[39m2\u001b[39;49m, on \u001b[39m=\u001b[39;49m \u001b[39m'\u001b[39;49m\u001b[39mdate\u001b[39;49m\u001b[39m'\u001b[39;49m,min_periods\u001b[39m=\u001b[39;49m\u001b[39m1\u001b[39;49m)[\u001b[39m'\u001b[39;49m\u001b[39mmean_embedding\u001b[39;49m\u001b[39m'\u001b[39;49m]\u001b[39m.\u001b[39;49mapply(group_sim_mean)\u001b[39m.\u001b[39mreset_index(\u001b[39m0\u001b[39m,drop\u001b[39m=\u001b[39m\u001b[39mTrue\u001b[39;00m)\n",
      "File \u001b[0;32m/Library/Frameworks/Python.framework/Versions/3.11/lib/python3.11/site-packages/pandas/core/window/rolling.py:2043\u001b[0m, in \u001b[0;36mRolling.apply\u001b[0;34m(self, func, raw, engine, engine_kwargs, args, kwargs)\u001b[0m\n\u001b[1;32m   2010\u001b[0m \u001b[39m@doc\u001b[39m(\n\u001b[1;32m   2011\u001b[0m     template_header,\n\u001b[1;32m   2012\u001b[0m     create_section_header(\u001b[39m\"\u001b[39m\u001b[39mParameters\u001b[39m\u001b[39m\"\u001b[39m),\n\u001b[0;32m   (...)\u001b[0m\n\u001b[1;32m   2041\u001b[0m     kwargs: \u001b[39mdict\u001b[39m[\u001b[39mstr\u001b[39m, Any] \u001b[39m|\u001b[39m \u001b[39mNone\u001b[39;00m \u001b[39m=\u001b[39m \u001b[39mNone\u001b[39;00m,\n\u001b[1;32m   2042\u001b[0m ):\n\u001b[0;32m-> 2043\u001b[0m     \u001b[39mreturn\u001b[39;00m \u001b[39msuper\u001b[39;49m()\u001b[39m.\u001b[39;49mapply(\n\u001b[1;32m   2044\u001b[0m         func,\n\u001b[1;32m   2045\u001b[0m         raw\u001b[39m=\u001b[39;49mraw,\n\u001b[1;32m   2046\u001b[0m         engine\u001b[39m=\u001b[39;49mengine,\n\u001b[1;32m   2047\u001b[0m         engine_kwargs\u001b[39m=\u001b[39;49mengine_kwargs,\n\u001b[1;32m   2048\u001b[0m         args\u001b[39m=\u001b[39;49margs,\n\u001b[1;32m   2049\u001b[0m         kwargs\u001b[39m=\u001b[39;49mkwargs,\n\u001b[1;32m   2050\u001b[0m     )\n",
      "File \u001b[0;32m/Library/Frameworks/Python.framework/Versions/3.11/lib/python3.11/site-packages/pandas/core/window/rolling.py:1503\u001b[0m, in \u001b[0;36mRollingAndExpandingMixin.apply\u001b[0;34m(self, func, raw, engine, engine_kwargs, args, kwargs)\u001b[0m\n\u001b[1;32m   1500\u001b[0m \u001b[39melse\u001b[39;00m:\n\u001b[1;32m   1501\u001b[0m     \u001b[39mraise\u001b[39;00m \u001b[39mValueError\u001b[39;00m(\u001b[39m\"\u001b[39m\u001b[39mengine must be either \u001b[39m\u001b[39m'\u001b[39m\u001b[39mnumba\u001b[39m\u001b[39m'\u001b[39m\u001b[39m or \u001b[39m\u001b[39m'\u001b[39m\u001b[39mcython\u001b[39m\u001b[39m'\u001b[39m\u001b[39m\"\u001b[39m)\n\u001b[0;32m-> 1503\u001b[0m \u001b[39mreturn\u001b[39;00m \u001b[39mself\u001b[39;49m\u001b[39m.\u001b[39;49m_apply(\n\u001b[1;32m   1504\u001b[0m     apply_func,\n\u001b[1;32m   1505\u001b[0m     name\u001b[39m=\u001b[39;49m\u001b[39m\"\u001b[39;49m\u001b[39mapply\u001b[39;49m\u001b[39m\"\u001b[39;49m,\n\u001b[1;32m   1506\u001b[0m     numba_args\u001b[39m=\u001b[39;49mnumba_args,\n\u001b[1;32m   1507\u001b[0m )\n",
      "File \u001b[0;32m/Library/Frameworks/Python.framework/Versions/3.11/lib/python3.11/site-packages/pandas/core/window/rolling.py:617\u001b[0m, in \u001b[0;36mBaseWindow._apply\u001b[0;34m(self, func, name, numeric_only, numba_args, **kwargs)\u001b[0m\n\u001b[1;32m    614\u001b[0m     \u001b[39mreturn\u001b[39;00m result\n\u001b[1;32m    616\u001b[0m \u001b[39mif\u001b[39;00m \u001b[39mself\u001b[39m\u001b[39m.\u001b[39mmethod \u001b[39m==\u001b[39m \u001b[39m\"\u001b[39m\u001b[39msingle\u001b[39m\u001b[39m\"\u001b[39m:\n\u001b[0;32m--> 617\u001b[0m     \u001b[39mreturn\u001b[39;00m \u001b[39mself\u001b[39;49m\u001b[39m.\u001b[39;49m_apply_blockwise(homogeneous_func, name, numeric_only)\n\u001b[1;32m    618\u001b[0m \u001b[39melse\u001b[39;00m:\n\u001b[1;32m    619\u001b[0m     \u001b[39mreturn\u001b[39;00m \u001b[39mself\u001b[39m\u001b[39m.\u001b[39m_apply_tablewise(homogeneous_func, name, numeric_only)\n",
      "File \u001b[0;32m/Library/Frameworks/Python.framework/Versions/3.11/lib/python3.11/site-packages/pandas/core/window/rolling.py:470\u001b[0m, in \u001b[0;36mBaseWindow._apply_blockwise\u001b[0;34m(self, homogeneous_func, name, numeric_only)\u001b[0m\n\u001b[1;32m    468\u001b[0m \u001b[39mself\u001b[39m\u001b[39m.\u001b[39m_validate_numeric_only(name, numeric_only)\n\u001b[1;32m    469\u001b[0m \u001b[39mif\u001b[39;00m \u001b[39mself\u001b[39m\u001b[39m.\u001b[39m_selected_obj\u001b[39m.\u001b[39mndim \u001b[39m==\u001b[39m \u001b[39m1\u001b[39m:\n\u001b[0;32m--> 470\u001b[0m     \u001b[39mreturn\u001b[39;00m \u001b[39mself\u001b[39;49m\u001b[39m.\u001b[39;49m_apply_series(homogeneous_func, name)\n\u001b[1;32m    472\u001b[0m obj \u001b[39m=\u001b[39m \u001b[39mself\u001b[39m\u001b[39m.\u001b[39m_create_data(\u001b[39mself\u001b[39m\u001b[39m.\u001b[39m_selected_obj, numeric_only)\n\u001b[1;32m    473\u001b[0m \u001b[39mif\u001b[39;00m name \u001b[39m==\u001b[39m \u001b[39m\"\u001b[39m\u001b[39mcount\u001b[39m\u001b[39m\"\u001b[39m:\n\u001b[1;32m    474\u001b[0m     \u001b[39m# GH 12541: Special case for count where we support date-like types\u001b[39;00m\n",
      "File \u001b[0;32m/Library/Frameworks/Python.framework/Versions/3.11/lib/python3.11/site-packages/pandas/core/window/rolling.py:452\u001b[0m, in \u001b[0;36mBaseWindow._apply_series\u001b[0;34m(self, homogeneous_func, name)\u001b[0m\n\u001b[1;32m    450\u001b[0m     values \u001b[39m=\u001b[39m \u001b[39mself\u001b[39m\u001b[39m.\u001b[39m_prep_values(obj\u001b[39m.\u001b[39m_values)\n\u001b[1;32m    451\u001b[0m \u001b[39mexcept\u001b[39;00m (\u001b[39mTypeError\u001b[39;00m, \u001b[39mNotImplementedError\u001b[39;00m) \u001b[39mas\u001b[39;00m err:\n\u001b[0;32m--> 452\u001b[0m     \u001b[39mraise\u001b[39;00m DataError(\u001b[39m\"\u001b[39m\u001b[39mNo numeric types to aggregate\u001b[39m\u001b[39m\"\u001b[39m) \u001b[39mfrom\u001b[39;00m \u001b[39merr\u001b[39;00m\n\u001b[1;32m    454\u001b[0m result \u001b[39m=\u001b[39m homogeneous_func(values)\n\u001b[1;32m    455\u001b[0m index \u001b[39m=\u001b[39m \u001b[39mself\u001b[39m\u001b[39m.\u001b[39m_slice_axis_for_step(obj\u001b[39m.\u001b[39mindex, result)\n",
      "\u001b[0;31mDataError\u001b[0m: No numeric types to aggregate"
     ]
    }
   ],
   "source": [
    "psn_sim_metrics2 = psn_df[['PRIMARY_LOC_NAME','date','embeddings']]\n",
    "psn_sim_metrics2 = psn_sim_metrics2.groupby(['PRIMARY_LOC_NAME',pd.Grouper(key='date', freq='D')]).apply(np.mean).reset_index(name='mean_embedding')\n",
    "psn_sim_metrics2 = psn_sim_metrics2.groupby('PRIMARY_LOC_NAME').filter(lambda x: len(x) >120)\n",
    "psn_sim_metrics2.dropna(axis = 0,inplace=True)\n",
    "psn_sim_metrics2.head()\n",
    "#psn_sim_metrics2['rolling_sim'] = psn_sim_metrics2.groupby('PRIMARY_LOC_NAME')['mean_embedding'].apply(lambda g: g.rolling(5,min_periods=1,center=False).apply(group_sim_mean))\n",
    "psn_sim_metrics2['rolling_sim'] = psn_sim_metrics2.rolling(2, on = 'date',min_periods=1)['mean_embedding'].apply(group_sim_mean).reset_index(0,drop=True)"
   ]
  },
  {
   "cell_type": "code",
   "execution_count": 206,
   "metadata": {},
   "outputs": [
    {
     "data": {
      "text/plain": [
       "4405"
      ]
     },
     "execution_count": 206,
     "metadata": {},
     "output_type": "execute_result"
    }
   ],
   "source": [
    "len(psn_sim_metrics2)"
   ]
  },
  {
   "cell_type": "code",
   "execution_count": 84,
   "metadata": {},
   "outputs": [
    {
     "data": {
      "text/html": [
       "<div>\n",
       "<style scoped>\n",
       "    .dataframe tbody tr th:only-of-type {\n",
       "        vertical-align: middle;\n",
       "    }\n",
       "\n",
       "    .dataframe tbody tr th {\n",
       "        vertical-align: top;\n",
       "    }\n",
       "\n",
       "    .dataframe thead th {\n",
       "        text-align: right;\n",
       "    }\n",
       "</style>\n",
       "<table border=\"1\" class=\"dataframe\">\n",
       "  <thead>\n",
       "    <tr style=\"text-align: right;\">\n",
       "      <th></th>\n",
       "      <th>date</th>\n",
       "      <th>mean_embedding</th>\n",
       "      <th>mean_embedding_shift</th>\n",
       "      <th>lag_sim</th>\n",
       "    </tr>\n",
       "  </thead>\n",
       "  <tbody>\n",
       "    <tr>\n",
       "      <th>1</th>\n",
       "      <td>1988-02-01</td>\n",
       "      <td>[-0.061027892, -0.028464677, 0.015833795, 0.01...</td>\n",
       "      <td>[-0.05780552, -0.01677651, 0.022315733, 0.0217...</td>\n",
       "      <td>0.992453</td>\n",
       "    </tr>\n",
       "    <tr>\n",
       "      <th>2</th>\n",
       "      <td>1988-03-01</td>\n",
       "      <td>[-0.058345165, -0.025108237, 0.014209407, 0.01...</td>\n",
       "      <td>[-0.061027892, -0.028464677, 0.015833795, 0.01...</td>\n",
       "      <td>0.995864</td>\n",
       "    </tr>\n",
       "    <tr>\n",
       "      <th>3</th>\n",
       "      <td>1988-04-01</td>\n",
       "      <td>[-0.05758096, -0.023219632, 0.014241583, 0.017...</td>\n",
       "      <td>[-0.058345165, -0.025108237, 0.014209407, 0.01...</td>\n",
       "      <td>0.996180</td>\n",
       "    </tr>\n",
       "    <tr>\n",
       "      <th>4</th>\n",
       "      <td>1988-05-01</td>\n",
       "      <td>[-0.05582636, -0.022245584, 0.01852573, 0.0172...</td>\n",
       "      <td>[-0.05758096, -0.023219632, 0.014241583, 0.017...</td>\n",
       "      <td>0.995060</td>\n",
       "    </tr>\n",
       "    <tr>\n",
       "      <th>5</th>\n",
       "      <td>1988-06-01</td>\n",
       "      <td>[-0.057438016, -0.026060024, 0.012747915, 0.01...</td>\n",
       "      <td>[-0.05582636, -0.022245584, 0.01852573, 0.0172...</td>\n",
       "      <td>0.994891</td>\n",
       "    </tr>\n",
       "  </tbody>\n",
       "</table>\n",
       "</div>"
      ],
      "text/plain": [
       "         date                                     mean_embedding  \\\n",
       "1  1988-02-01  [-0.061027892, -0.028464677, 0.015833795, 0.01...   \n",
       "2  1988-03-01  [-0.058345165, -0.025108237, 0.014209407, 0.01...   \n",
       "3  1988-04-01  [-0.05758096, -0.023219632, 0.014241583, 0.017...   \n",
       "4  1988-05-01  [-0.05582636, -0.022245584, 0.01852573, 0.0172...   \n",
       "5  1988-06-01  [-0.057438016, -0.026060024, 0.012747915, 0.01...   \n",
       "\n",
       "                                mean_embedding_shift   lag_sim  \n",
       "1  [-0.05780552, -0.01677651, 0.022315733, 0.0217...  0.992453  \n",
       "2  [-0.061027892, -0.028464677, 0.015833795, 0.01...  0.995864  \n",
       "3  [-0.058345165, -0.025108237, 0.014209407, 0.01...  0.996180  \n",
       "4  [-0.05758096, -0.023219632, 0.014241583, 0.017...  0.995060  \n",
       "5  [-0.05582636, -0.022245584, 0.01852573, 0.0172...  0.994891  "
      ]
     },
     "execution_count": 84,
     "metadata": {},
     "output_type": "execute_result"
    }
   ],
   "source": [
    "asrs_sim_metrics = asrs_df[['date','embeddings']]\n",
    "asrs_sim_metrics = asrs_sim_metrics.groupby('date').apply(np.mean).reset_index(name='mean_embedding')\n",
    "asrs_sim_metrics['mean_embedding_shift'] = asrs_sim_metrics['mean_embedding'].shift(periods=1)\n",
    "asrs_sim_metrics.dropna(axis = 0,inplace=True)\n",
    "asrs_sim_metrics['lag_sim'] = asrs_sim_metrics.apply(lambda x: cosine_similarity([x.mean_embedding,x.mean_embedding_shift])[0,1], axis=1)\n",
    "asrs_sim_metrics.head()"
   ]
  },
  {
   "cell_type": "code",
   "execution_count": 123,
   "metadata": {},
   "outputs": [
    {
     "name": "stderr",
     "output_type": "stream",
     "text": [
      "/var/folders/v6/ztvgzd816jd95zsvrnl_zb2c0000gp/T/ipykernel_97939/2835754924.py:4: RuntimeWarning: Mean of empty slice.\n",
      "  return sim[~np.isnan(sim)].mean()\n",
      "/Library/Frameworks/Python.framework/Versions/3.11/lib/python3.11/site-packages/numpy/core/_methods.py:192: RuntimeWarning: invalid value encountered in divide\n",
      "  ret = ret.dtype.type(ret / rcount)\n",
      "/Library/Frameworks/Python.framework/Versions/3.11/lib/python3.11/site-packages/numpy/core/_methods.py:269: RuntimeWarning: Degrees of freedom <= 0 for slice\n",
      "  ret = _var(a, axis=axis, dtype=dtype, out=out, ddof=ddof,\n",
      "/Library/Frameworks/Python.framework/Versions/3.11/lib/python3.11/site-packages/numpy/core/_methods.py:226: RuntimeWarning: invalid value encountered in divide\n",
      "  arrmean = um.true_divide(arrmean, div, out=arrmean,\n",
      "/Library/Frameworks/Python.framework/Versions/3.11/lib/python3.11/site-packages/numpy/core/_methods.py:261: RuntimeWarning: invalid value encountered in divide\n",
      "  ret = ret.dtype.type(ret / rcount)\n"
     ]
    }
   ],
   "source": [
    "asrs_sim_metrics2 = asrs_df[['date','embeddings']]\n",
    "asrs_sim_metrics2 = asrs_sim_metrics2.groupby('date')['embeddings'].apply(group_sim_mean).reset_index(name='mean_sim')\n",
    "asrs_sim_metrics3 = asrs_df[['date','embeddings']]\n",
    "asrs_sim_metrics3 = asrs_sim_metrics3.groupby('date')['embeddings'].apply(group_sim_std).reset_index(name='std_sim')"
   ]
  },
  {
   "cell_type": "code",
   "execution_count": 165,
   "metadata": {},
   "outputs": [],
   "source": [
    "psn_sim_metrics2 = psn_df[['date','embeddings']]\n",
    "psn_sim_metrics2 = psn_sim_metrics2.groupby(pd.Grouper(key='date', freq='D'))['embeddings'].apply(group_sim_mean).reset_index(name='mean_sim')\n",
    "psn_sim_metrics3 = psn_df[['date','embeddings']]\n",
    "psn_sim_metrics3 = psn_sim_metrics3.groupby(pd.Grouper(key='date', freq='D'))['embeddings'].apply(group_sim_std).reset_index(name='std_sim')"
   ]
  },
  {
   "cell_type": "code",
   "execution_count": 166,
   "metadata": {},
   "outputs": [
    {
     "data": {
      "text/html": [
       "<div>\n",
       "<style scoped>\n",
       "    .dataframe tbody tr th:only-of-type {\n",
       "        vertical-align: middle;\n",
       "    }\n",
       "\n",
       "    .dataframe tbody tr th {\n",
       "        vertical-align: top;\n",
       "    }\n",
       "\n",
       "    .dataframe thead th {\n",
       "        text-align: right;\n",
       "    }\n",
       "</style>\n",
       "<table border=\"1\" class=\"dataframe\">\n",
       "  <thead>\n",
       "    <tr style=\"text-align: right;\">\n",
       "      <th></th>\n",
       "      <th>lag_sim</th>\n",
       "      <th>mean_sim</th>\n",
       "      <th>std_sim</th>\n",
       "      <th>vader_comp_mean</th>\n",
       "      <th>vader_comp_std</th>\n",
       "    </tr>\n",
       "    <tr>\n",
       "      <th>date</th>\n",
       "      <th></th>\n",
       "      <th></th>\n",
       "      <th></th>\n",
       "      <th></th>\n",
       "      <th></th>\n",
       "    </tr>\n",
       "  </thead>\n",
       "  <tbody>\n",
       "    <tr>\n",
       "      <th>2013-07-02</th>\n",
       "      <td>0.888988</td>\n",
       "      <td>0.272151</td>\n",
       "      <td>0.109881</td>\n",
       "      <td>-0.072512</td>\n",
       "      <td>0.508136</td>\n",
       "    </tr>\n",
       "    <tr>\n",
       "      <th>2013-07-03</th>\n",
       "      <td>0.934109</td>\n",
       "      <td>0.290662</td>\n",
       "      <td>0.116754</td>\n",
       "      <td>-0.172340</td>\n",
       "      <td>0.520796</td>\n",
       "    </tr>\n",
       "    <tr>\n",
       "      <th>2013-07-04</th>\n",
       "      <td>0.870342</td>\n",
       "      <td>0.327987</td>\n",
       "      <td>0.097423</td>\n",
       "      <td>-0.304673</td>\n",
       "      <td>0.492164</td>\n",
       "    </tr>\n",
       "    <tr>\n",
       "      <th>2013-07-05</th>\n",
       "      <td>0.846638</td>\n",
       "      <td>0.298775</td>\n",
       "      <td>0.120106</td>\n",
       "      <td>-0.265121</td>\n",
       "      <td>0.534005</td>\n",
       "    </tr>\n",
       "    <tr>\n",
       "      <th>2013-07-06</th>\n",
       "      <td>0.867586</td>\n",
       "      <td>0.276458</td>\n",
       "      <td>0.107107</td>\n",
       "      <td>-0.027556</td>\n",
       "      <td>0.367412</td>\n",
       "    </tr>\n",
       "  </tbody>\n",
       "</table>\n",
       "</div>"
      ],
      "text/plain": [
       "             lag_sim  mean_sim   std_sim  vader_comp_mean  vader_comp_std\n",
       "date                                                                     \n",
       "2013-07-02  0.888988  0.272151  0.109881        -0.072512        0.508136\n",
       "2013-07-03  0.934109  0.290662  0.116754        -0.172340        0.520796\n",
       "2013-07-04  0.870342  0.327987  0.097423        -0.304673        0.492164\n",
       "2013-07-05  0.846638  0.298775  0.120106        -0.265121        0.534005\n",
       "2013-07-06  0.867586  0.276458  0.107107        -0.027556        0.367412"
      ]
     },
     "execution_count": 166,
     "metadata": {},
     "output_type": "execute_result"
    }
   ],
   "source": [
    "all_psn_metrics = psn_sim_metrics[['date','lag_sim']].set_index('date').join(psn_sim_metrics2.set_index('date'))\n",
    "all_psn_metrics = all_psn_metrics.join(psn_sim_metrics3.set_index('date'))\n",
    "all_psn_metrics = all_psn_metrics.join(psn_vader_metrics.set_index('date'))\n",
    "all_psn_metrics.head()"
   ]
  },
  {
   "cell_type": "code",
   "execution_count": 167,
   "metadata": {},
   "outputs": [],
   "source": [
    "all_psn_metrics.to_csv('/Volumes/LaCie/event_ews/all_psn_metrics_12-28-2023.csv')"
   ]
  },
  {
   "cell_type": "code",
   "execution_count": 129,
   "metadata": {},
   "outputs": [
    {
     "data": {
      "text/html": [
       "<div>\n",
       "<style scoped>\n",
       "    .dataframe tbody tr th:only-of-type {\n",
       "        vertical-align: middle;\n",
       "    }\n",
       "\n",
       "    .dataframe tbody tr th {\n",
       "        vertical-align: top;\n",
       "    }\n",
       "\n",
       "    .dataframe thead th {\n",
       "        text-align: right;\n",
       "    }\n",
       "</style>\n",
       "<table border=\"1\" class=\"dataframe\">\n",
       "  <thead>\n",
       "    <tr style=\"text-align: right;\">\n",
       "      <th></th>\n",
       "      <th>lag_sim</th>\n",
       "      <th>mean_sim</th>\n",
       "      <th>std_sim</th>\n",
       "      <th>vader_comp_mean</th>\n",
       "      <th>vader_comp_std</th>\n",
       "    </tr>\n",
       "    <tr>\n",
       "      <th>date</th>\n",
       "      <th></th>\n",
       "      <th></th>\n",
       "      <th></th>\n",
       "      <th></th>\n",
       "      <th></th>\n",
       "    </tr>\n",
       "  </thead>\n",
       "  <tbody>\n",
       "    <tr>\n",
       "      <th>1988-02-01</th>\n",
       "      <td>0.992453</td>\n",
       "      <td>0.422769</td>\n",
       "      <td>0.116777</td>\n",
       "      <td>-0.319939</td>\n",
       "      <td>0.686014</td>\n",
       "    </tr>\n",
       "    <tr>\n",
       "      <th>1988-03-01</th>\n",
       "      <td>0.995864</td>\n",
       "      <td>0.432620</td>\n",
       "      <td>0.113538</td>\n",
       "      <td>-0.344239</td>\n",
       "      <td>0.673899</td>\n",
       "    </tr>\n",
       "    <tr>\n",
       "      <th>1988-04-01</th>\n",
       "      <td>0.996180</td>\n",
       "      <td>0.435843</td>\n",
       "      <td>0.110778</td>\n",
       "      <td>-0.377918</td>\n",
       "      <td>0.652923</td>\n",
       "    </tr>\n",
       "    <tr>\n",
       "      <th>1988-05-01</th>\n",
       "      <td>0.995060</td>\n",
       "      <td>0.429069</td>\n",
       "      <td>0.109929</td>\n",
       "      <td>-0.358967</td>\n",
       "      <td>0.656970</td>\n",
       "    </tr>\n",
       "    <tr>\n",
       "      <th>1988-06-01</th>\n",
       "      <td>0.994891</td>\n",
       "      <td>0.428424</td>\n",
       "      <td>0.111934</td>\n",
       "      <td>-0.350056</td>\n",
       "      <td>0.648810</td>\n",
       "    </tr>\n",
       "  </tbody>\n",
       "</table>\n",
       "</div>"
      ],
      "text/plain": [
       "             lag_sim  mean_sim   std_sim  vader_comp_mean  vader_comp_std\n",
       "date                                                                     \n",
       "1988-02-01  0.992453  0.422769  0.116777        -0.319939        0.686014\n",
       "1988-03-01  0.995864  0.432620  0.113538        -0.344239        0.673899\n",
       "1988-04-01  0.996180  0.435843  0.110778        -0.377918        0.652923\n",
       "1988-05-01  0.995060  0.429069  0.109929        -0.358967        0.656970\n",
       "1988-06-01  0.994891  0.428424  0.111934        -0.350056        0.648810"
      ]
     },
     "execution_count": 129,
     "metadata": {},
     "output_type": "execute_result"
    }
   ],
   "source": [
    "all_asrs_metrics = asrs_sim_metrics[['date','lag_sim']].set_index('date').join(asrs_sim_metrics2.set_index('date'))\n",
    "all_asrs_metrics = all_asrs_metrics.join(asrs_sim_metrics3.set_index('date'))\n",
    "all_asrs_metrics = all_asrs_metrics.join(vader_metrics.set_index('date'))\n",
    "all_asrs_metrics.head()"
   ]
  },
  {
   "cell_type": "code",
   "execution_count": 130,
   "metadata": {},
   "outputs": [],
   "source": [
    "all_asrs_metrics.to_csv('/Volumes/LaCie/event_ews/all_asrs_metrics_12-28-2023.csv')"
   ]
  }
 ],
 "metadata": {
  "kernelspec": {
   "display_name": "Python 3",
   "language": "python",
   "name": "python3"
  },
  "language_info": {
   "codemirror_mode": {
    "name": "ipython",
    "version": 3
   },
   "file_extension": ".py",
   "mimetype": "text/x-python",
   "name": "python",
   "nbconvert_exporter": "python",
   "pygments_lexer": "ipython3",
   "version": "3.12.1"
  },
  "orig_nbformat": 4
 },
 "nbformat": 4,
 "nbformat_minor": 2
}
