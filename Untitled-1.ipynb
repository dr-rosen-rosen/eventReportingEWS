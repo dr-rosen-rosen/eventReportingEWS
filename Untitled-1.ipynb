{
 "cells": [
  {
   "cell_type": "code",
   "execution_count": 3,
   "metadata": {},
   "outputs": [],
   "source": [
    "import pandas as pd\n",
    "import os\n",
    "from sentence_transformers import SentenceTransformer, util\n",
    "from sklearn.metrics.pairwise import cosine_similarity"
   ]
  },
  {
   "cell_type": "code",
   "execution_count": 4,
   "metadata": {},
   "outputs": [
    {
     "name": "stderr",
     "output_type": "stream",
     "text": [
      ".gitattributes: 100%|██████████| 1.18k/1.18k [00:00<00:00, 1.66MB/s]\n",
      "1_Pooling/config.json: 100%|██████████| 190/190 [00:00<00:00, 868kB/s]\n",
      "README.md: 100%|██████████| 10.6k/10.6k [00:00<00:00, 35.6MB/s]\n",
      "config.json: 100%|██████████| 612/612 [00:00<00:00, 2.69MB/s]\n",
      "config_sentence_transformers.json: 100%|██████████| 116/116 [00:00<00:00, 588kB/s]\n",
      "data_config.json: 100%|██████████| 39.3k/39.3k [00:00<00:00, 3.82MB/s]\n",
      "pytorch_model.bin: 100%|██████████| 90.9M/90.9M [00:07<00:00, 12.3MB/s]\n",
      "sentence_bert_config.json: 100%|██████████| 53.0/53.0 [00:00<00:00, 431kB/s]\n",
      "special_tokens_map.json: 100%|██████████| 112/112 [00:00<00:00, 220kB/s]\n",
      "tokenizer.json: 100%|██████████| 466k/466k [00:00<00:00, 4.03MB/s]\n",
      "tokenizer_config.json: 100%|██████████| 350/350 [00:00<00:00, 2.40MB/s]\n",
      "train_script.py: 100%|██████████| 13.2k/13.2k [00:00<00:00, 18.3MB/s]\n",
      "vocab.txt: 100%|██████████| 232k/232k [00:00<00:00, 15.8MB/s]\n",
      "modules.json: 100%|██████████| 349/349 [00:00<00:00, 2.03MB/s]\n"
     ]
    }
   ],
   "source": [
    "model = SentenceTransformer('sentence-transformers/all-MiniLM-L6-v2')"
   ]
  },
  {
   "cell_type": "code",
   "execution_count": 34,
   "metadata": {},
   "outputs": [
    {
     "name": "stderr",
     "output_type": "stream",
     "text": [
      "/var/folders/v6/ztvgzd816jd95zsvrnl_zb2c0000gp/T/ipykernel_10705/4163416017.py:2: DtypeWarning: Columns (9,12,13,15,16,20,21,22,29,30,31,32,33,34,35,39,40,41,42,43,44,45,46,47,48,49,50,51,52,53,54,55,56,60,61,64,67,68,70,71,74,79,80,82,83,84,87,90,91,92,97,98,99,100,102,103,108,109,110,111,115,117,123,124,125) have mixed types. Specify dtype option on import or set low_memory=False.\n",
      "  asrs_df = pd.read_csv('/Volumes/LaCie/event_ews/cmb_asrs.csv')\n"
     ]
    }
   ],
   "source": [
    "#psn_df = pd.read_excel('/Volumes/LaCie/event_ews/old_psn.xlsx')\n",
    "asrs_df = pd.read_csv('/Volumes/LaCie/event_ews/cmb_asrs.csv')"
   ]
  },
  {
   "cell_type": "code",
   "execution_count": 36,
   "metadata": {},
   "outputs": [],
   "source": [
    "#bertd_psns = psn_df['Narrative_merged'].map(lambda x: model.encode(x, convert_to_tensor=False))\n",
    "bertd_asrs = asrs_df['report_1narrative'].map(lambda x: model.encode(x,convert_to_tensor=False))"
   ]
  },
  {
   "cell_type": "code",
   "execution_count": 22,
   "metadata": {},
   "outputs": [
    {
     "data": {
      "text/plain": [
       "0    [0.0069534765, -0.05311333, 0.019020673, -0.00...\n",
       "1    [-0.06715006, -0.08979573, 0.093123145, -0.054...\n",
       "2    [-0.06808414, 0.10719452, 0.02648297, 0.087540...\n",
       "3    [0.03745393, -0.029436925, 0.07597171, -0.0119...\n",
       "4    [-0.13457182, -0.06741666, 0.012600411, 0.0280...\n",
       "Name: Narrative_merged, dtype: object"
      ]
     },
     "execution_count": 22,
     "metadata": {},
     "output_type": "execute_result"
    }
   ],
   "source": [
    "bertd_psns.head()"
   ]
  },
  {
   "cell_type": "code",
   "execution_count": 27,
   "metadata": {},
   "outputs": [
    {
     "data": {
      "text/plain": [
       "(384,)"
      ]
     },
     "execution_count": 27,
     "metadata": {},
     "output_type": "execute_result"
    }
   ],
   "source": [
    "bertd_psns[3].shape"
   ]
  },
  {
   "cell_type": "code",
   "execution_count": 33,
   "metadata": {},
   "outputs": [
    {
     "data": {
      "text/plain": [
       "array([[0.99999976, 0.6912234 , 0.15340851],\n",
       "       [0.6912234 , 1.0000001 , 0.205737  ],\n",
       "       [0.15340851, 0.205737  , 1.0000002 ]], dtype=float32)"
      ]
     },
     "execution_count": 33,
     "metadata": {},
     "output_type": "execute_result"
    }
   ],
   "source": [
    "cosine_similarity([bertd_psns[0],bertd_psns[1],bertd_psns[2]])#[0][0]"
   ]
  }
 ],
 "metadata": {
  "kernelspec": {
   "display_name": "Python 3",
   "language": "python",
   "name": "python3"
  },
  "language_info": {
   "codemirror_mode": {
    "name": "ipython",
    "version": 3
   },
   "file_extension": ".py",
   "mimetype": "text/x-python",
   "name": "python",
   "nbconvert_exporter": "python",
   "pygments_lexer": "ipython3",
   "version": "3.11.3"
  },
  "orig_nbformat": 4
 },
 "nbformat": 4,
 "nbformat_minor": 2
}
